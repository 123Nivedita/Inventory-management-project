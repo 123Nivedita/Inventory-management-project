{
 "cells": [
  {
   "cell_type": "code",
   "execution_count": null,
   "metadata": {},
   "outputs": [],
   "source": [
    "import pandas as pd\n",
    "import numpy as np\n",
    "import matplotlib.pyplot as plt"
   ]
  },
  {
   "cell_type": "code",
   "execution_count": null,
   "metadata": {},
   "outputs": [],
   "source": [
    "df = pd.read_csv(\"summer.csv\")"
   ]
  },
  {
   "cell_type": "code",
   "execution_count": null,
   "metadata": {},
   "outputs": [],
   "source": [
    "df\n",
    "\tYear\tCity\tSport\tDiscipline\tAthlete\tCountry\tGender\tEvent\tMedal\n",
    "0\t1896\tAthens\tAquatics\tSwimming\tHAJOS, Alfred\tHUN\tMen\t100M Freestyle\tGold\n",
    "1\t1896\tAthens\tAquatics\tSwimming\tHERSCHMANN, Otto\tAUT\tMen\t100M Freestyle\tSilver\n",
    "2\t1896\tAthens\tAquatics\tSwimming\tDRIVAS, Dimitrios\tGRE\tMen\t100M Freestyle For Sailors\tBronze\n",
    "3\t1896\tAthens\tAquatics\tSwimming\tMALOKINIS, Ioannis\tGRE\tMen\t100M Freestyle For Sailors\tGold\n",
    "4\t1896\tAthens\tAquatics\tSwimming\tCHASAPIS, Spiridon\tGRE\tMen\t100M Freestyle For Sailors\tSilver\n",
    "...\t...\t...\t...\t...\t...\t...\t...\t...\t...\n",
    "31160\t2012\tLondon\tWrestling\tWrestling Freestyle\tJANIKOWSKI, Damian\tPOL\tMen\tWg 84 KG\tBronze\n",
    "31161\t2012\tLondon\tWrestling\tWrestling Freestyle\tREZAEI, Ghasem Gholamreza\tIRI\tMen\tWg 96 KG\tGold\n",
    "31162\t2012\tLondon\tWrestling\tWrestling Freestyle\tTOTROV, Rustam\tRUS\tMen\tWg 96 KG\tSilver\n",
    "31163\t2012\tLondon\tWrestling\tWrestling Freestyle\tALEKSANYAN, Artur\tARM\tMen\tWg 96 KG\tBronze\n",
    "31164\t2012\tLondon\tWrestling\tWrestling Freestyle\tLIDBERG, Jimmy\tSWE\tMen\tWg 96 KG\tBronze\n",
    "31165 rows × 9 columns"
   ]
  },
  {
   "cell_type": "code",
   "execution_count": null,
   "metadata": {},
   "outputs": [],
   "source": [
    "df.head()\n",
    "Year\tCity\tSport\tDiscipline\tAthlete\tCountry\tGender\tEvent\tMedal\n",
    "0\t1896\tAthens\tAquatics\tSwimming\tHAJOS, Alfred\tHUN\tMen\t100M Freestyle\tGold\n",
    "1\t1896\tAthens\tAquatics\tSwimming\tHERSCHMANN, Otto\tAUT\tMen\t100M Freestyle\tSilver\n",
    "2\t1896\tAthens\tAquatics\tSwimming\tDRIVAS, Dimitrios\tGRE\tMen\t100M Freestyle For Sailors\tBronze\n",
    "3\t1896\tAthens\tAquatics\tSwimming\tMALOKINIS, Ioannis\tGRE\tMen\t100M Freestyle For Sailors\tGold\n",
    "4\t1896\tAthens\tAquatics\tSwimming\tCHASAPIS, Spiridon\tGRE\tMen\t100M Freestyle For Sailors\tSilver\n",
    "In how many cities Summer Olympics is held so far?\n"
   ]
  },
  {
   "cell_type": "code",
   "execution_count": null,
   "metadata": {},
   "outputs": [],
   "source": [
    "print(\"the total number of cities in which summer olympics were held are :\" ,len(df['City'].unique()))\n",
    "the total number of cities in which summer olympics were held are : 22\n",
    "2.Which sport is having most number of Gold Medals so far? (Top 5)"
   ]
  },
  {
   "cell_type": "code",
   "execution_count": null,
   "metadata": {},
   "outputs": [],
   "source": [
    "gold = df[df['Medal'] == 'Gold']\n",
    "gold = gold.groupby('Sport').count()['Medal'].sort_values(ascending = False).head()\n",
    "print(gold)\n",
    "gold.plot.bar(figsize =(10,5))\n",
    "Sport\n",
    "Aquatics      1421\n",
    "Athletics     1215\n",
    "Rowing         890\n",
    "Gymnastics     820\n",
    "Fencing        552\n",
    "Name: Medal, dtype: int64\n",
    "\n",
    "        \n",
    "<matplotlib.axes._subplots.AxesSubplot at 0x7f7c35be5690>\n",
    "\n",
    "thus aquatics sports has the most number of gold medals\n",
    "\n",
    "3.Which sport is having most number of medals so far? (Top 5)"
   ]
  },
  {
   "cell_type": "code",
   "execution_count": null,
   "metadata": {},
   "outputs": [],
   "source": [
    "s =df.groupby('Sport').count()['Medal'].sort_values(ascending = False).head()\n",
    "print(s)\n",
    "s.plot.bar(figsize = (10, 5))\n",
    "Sport\n",
    "Aquatics      4170\n",
    "Athletics     3638\n",
    "Rowing        2667\n",
    "Gymnastics    2307\n",
    "Fencing       1613\n",
    "Name: Medal, dtype: int64\n",
    "Out[7]:\n",
    "<matplotlib.axes._subplots.AxesSubplot at 0x7f7c3a6c3d90>"
   ]
  },
  {
   "cell_type": "code",
   "execution_count": null,
   "metadata": {},
   "outputs": [],
   "source": [
    "player = df.groupby('Athlete').count()['Medal'].sort_values(ascending=False).head()\n",
    "print(player)\n",
    "player.plot.bar(figsize= (10,5))\n",
    "Athlete\n",
    "PHELPS, Michael         22\n",
    "LATYNINA, Larisa        18\n",
    "ANDRIANOV, Nikolay      15\n",
    "MANGIAROTTI, Edoardo    13\n",
    "SHAKHLIN, Boris         13\n",
    "Name: Medal, dtype: int64\n",
    "Out[9]:\n",
    "<matplotlib.axes._subplots.AxesSubplot at 0x7f7c3a023190>\n",
    "6.In which year India won first Gold Medal in Summer Olympics?"
   ]
  },
  {
   "cell_type": "code",
   "execution_count": null,
   "metadata": {},
   "outputs": [],
   "source": [
    "player=df[df['Medal']=='Gold']\n",
    "year=player.sort_values(['Year'],ascending=True)\n",
    "\n",
    "gold=year[year['Country']=='IND'].iloc[0]\n",
    "\n",
    "print(\"The year in which India won its first Gold Medal in Summer Olympics is \",gold['Year'] ,\"\\n\")\n",
    "print(gold)\n",
    "The year in which India won its first Gold Medal in Summer Olympics is  1928 \n",
    "\n",
    "Year                 1928\n",
    "City            Amsterdam\n",
    "Sport              Hockey\n",
    "Discipline         Hockey\n",
    "Athlete       CHAND, Dyan\n",
    "Country               IND\n",
    "Gender                Men\n",
    "Event              Hockey\n",
    "Medal                Gold\n",
    "Name: 5513, dtype: object\n",
    "7.Which event is most popular in terms on number of players? (Top 5)"
   ]
  },
  {
   "cell_type": "code",
   "execution_count": null,
   "metadata": {},
   "outputs": [],
   "source": [
    "popular = df.groupby('Event').count()['Athlete'].sort_values(ascending=False).head()\n",
    "print(popular)\n",
    "popular.plot.bar(figsize = (10,5))\n",
    "Event\n",
    "Football            1497\n",
    "Hockey              1422\n",
    "Team Competition    1147\n",
    "Basketball          1012\n",
    "Handball             973\n",
    "Name: Athlete, dtype: int64\n",
    "Out[12]:\n",
    "<matplotlib.axes._subplots.AxesSubplot at 0x7f7c39f3b850>"
   ]
  },
  {
   "cell_type": "code",
   "execution_count": null,
   "metadata": {},
   "outputs": [],
   "source": [
    "8.Which sport is having most female Gold Medalists? (Top 5)\n",
    "\n",
    "In [18]:\n",
    "player_gold=df[df['Medal']=='Gold']\n",
    "player_female_gold=player_gold[df['Gender']=='Women']\n",
    "player_female_gold=player_female_gold.groupby('Sport').count()['Medal'].sort_values(ascending=False).head()\n",
    "print(player_female_gold)\n",
    "player_female_gold.plot.bar(figsize=(10,5))\n",
    "Sport\n",
    "Aquatics      589\n",
    "Athletics     389\n",
    "Gymnastics    268\n",
    "Rowing        217\n",
    "Volleyball    166\n",
    "Name: Medal, dtype: int64\n",
    "/usr/local/lib/python3.7/dist-packages/ipykernel_launcher.py:2: UserWarning: Boolean Series key will be reindexed to match DataFrame index.\n",
    "  \n",
    "Out[18]:\n",
    "<matplotlib.axes._subplots.AxesSubplot at 0x7f7c35c11dd0>"
   ]
  }
 ],
 "metadata": {
  "kernelspec": {
   "display_name": "Python 3",
   "language": "python",
   "name": "python3"
  },
  "language_info": {
   "codemirror_mode": {
    "name": "ipython",
    "version": 3
   },
   "file_extension": ".py",
   "mimetype": "text/x-python",
   "name": "python",
   "nbconvert_exporter": "python",
   "pygments_lexer": "ipython3",
   "version": "3.7.3"
  }
 },
 "nbformat": 4,
 "nbformat_minor": 2
}
